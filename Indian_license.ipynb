{
 "cells": [
  {
   "cell_type": "code",
   "execution_count": 1,
   "metadata": {},
   "outputs": [],
   "source": [
    "import pytesseract\n",
    "pytesseract.pytesseract.tesseract_cmd=r'C:\\Program Files (x86)\\Tesseract-OCR\\tesseract.exe'"
   ]
  },
  {
   "cell_type": "code",
   "execution_count": 2,
   "metadata": {},
   "outputs": [],
   "source": [
    "import cv2"
   ]
  },
  {
   "cell_type": "code",
   "execution_count": 26,
   "metadata": {},
   "outputs": [
    {
     "name": "stdout",
     "output_type": "stream",
     "text": [
      " THE UNION or INDIA 3\n",
      "& MAHARASHTRA STATE MOTOR DRIVING LICENCE \n",
      "\n",
      "-ma  DL No: NUMBERS DOI: DD-MM-YY\n",
      "Valid Till: DD-MM-YY (NT) ram 7\n",
      "DLR DD-MM-YY RULEWI\n",
      "\n",
      "AUTHORISATION TO DRIVE FOLLOWING CLASS\n",
      "OF VEHICLES THROUGHOUT INDIA\n",
      "\n",
      "DOI\n",
      "LMV DD-MM-YY\n",
      "\n",
      "MCWG DD-MM-YY\n",
      "\n",
      "DOB.‘ DD-MM-YY BG:\n",
      "\n",
      "Name :NAME SURNAME\n",
      "\n",
      "S/D/W of: NAME SURNAME\n",
      "\n",
      "Add: ADDRESS\n",
      "\n",
      "pm: NUMBERS / L‘ '\n",
      "SIgnature& ID of A‘ Signature/Thumb\n",
      "\n",
      "Issuing Authority: NUMBERS Impression of Holder\n",
      "\n",
      " \n",
      "\n",
      "\n"
     ]
    }
   ],
   "source": [
    "img=cv2.imread('license4.jpg')\n",
    "\n",
    "\n",
    "text=pytesseract.image_to_string(img)\n",
    "\n",
    "print(text)"
   ]
  },
  {
   "cell_type": "code",
   "execution_count": 4,
   "metadata": {},
   "outputs": [],
   "source": [
    "import json"
   ]
  },
  {
   "cell_type": "markdown",
   "metadata": {},
   "source": [
    "_______________________-SEPRATING TERMS OF LICENSE__________________________-"
   ]
  },
  {
   "cell_type": "code",
   "execution_count": 27,
   "metadata": {},
   "outputs": [
    {
     "data": {
      "text/plain": [
       "[' THE UNION or INDIA 3',\n",
       " '& MAHARASHTRA STATE MOTOR DRIVING LICENCE ',\n",
       " '',\n",
       " '-ma  DL No: NUMBERS DOI: DD-MM-YY',\n",
       " 'Valid Till: DD-MM-YY (NT) ram 7',\n",
       " 'DLR DD-MM-YY RULEWI',\n",
       " '',\n",
       " 'AUTHORISATION TO DRIVE FOLLOWING CLASS',\n",
       " 'OF VEHICLES THROUGHOUT INDIA',\n",
       " '',\n",
       " 'DOI',\n",
       " 'LMV DD-MM-YY',\n",
       " '',\n",
       " 'MCWG DD-MM-YY',\n",
       " '',\n",
       " 'DOB.‘ DD-MM-YY BG:',\n",
       " '',\n",
       " 'Name :NAME SURNAME',\n",
       " '',\n",
       " 'S/D/W of: NAME SURNAME',\n",
       " '',\n",
       " 'Add: ADDRESS',\n",
       " '',\n",
       " \"pm: NUMBERS / L‘ '\",\n",
       " 'SIgnature& ID of A‘ Signature/Thumb',\n",
       " '',\n",
       " 'Issuing Authority: NUMBERS Impression of Holder',\n",
       " '',\n",
       " ' ',\n",
       " '',\n",
       " '']"
      ]
     },
     "execution_count": 27,
     "metadata": {},
     "output_type": "execute_result"
    }
   ],
   "source": [
    "my_list=text.split('\\n')\n",
    "\n",
    "my_list"
   ]
  },
  {
   "cell_type": "markdown",
   "metadata": {},
   "source": [
    "_______________SEPRATING TERMS CONTAINING COLON            [ONLY TERMS CONTAINING RELEVANT INFO]__________________--"
   ]
  },
  {
   "cell_type": "code",
   "execution_count": 28,
   "metadata": {},
   "outputs": [],
   "source": [
    "new_list=[]\n",
    "\n",
    "for text in my_list:\n",
    "    for letter in text:\n",
    "        if letter==':':\n",
    "            new_list.append(text)\n",
    "            \n",
    "        \n",
    "    "
   ]
  },
  {
   "cell_type": "code",
   "execution_count": 29,
   "metadata": {
    "scrolled": true
   },
   "outputs": [
    {
     "data": {
      "text/plain": [
       "['-ma  DL No: NUMBERS DOI: DD-MM-YY',\n",
       " '-ma  DL No: NUMBERS DOI: DD-MM-YY',\n",
       " 'Valid Till: DD-MM-YY (NT) ram 7',\n",
       " 'DOB.‘ DD-MM-YY BG:',\n",
       " 'Name :NAME SURNAME',\n",
       " 'S/D/W of: NAME SURNAME',\n",
       " 'Add: ADDRESS',\n",
       " \"pm: NUMBERS / L‘ '\",\n",
       " 'Issuing Authority: NUMBERS Impression of Holder']"
      ]
     },
     "execution_count": 29,
     "metadata": {},
     "output_type": "execute_result"
    }
   ],
   "source": [
    "new_list"
   ]
  },
  {
   "cell_type": "markdown",
   "metadata": {},
   "source": [
    "____________________________MAKING A DICT____________________-"
   ]
  },
  {
   "cell_type": "code",
   "execution_count": 30,
   "metadata": {},
   "outputs": [],
   "source": [
    "my_dict={}\n",
    "for x in new_list:\n",
    "    i=0\n",
    "    for letter in x:\n",
    "        if letter==':':\n",
    "            i=i+1\n",
    "            \n",
    "    \n",
    "            \n",
    "    if i==1:\n",
    "        list_of_numbers=x.split(':')\n",
    "        my_dict[list_of_numbers[0]]=list_of_numbers[1]\n",
    "        \n",
    "    else:\n",
    "        list_of_numbers=x.split(':')\n",
    "        my_dict[list_of_numbers[0]]=list_of_numbers[1].split(' ')[1]\n",
    "        my_dict[list_of_numbers[2]]=list_of_numbers[1].split(' ')[2]\n",
    "      \n",
    "    "
   ]
  },
  {
   "cell_type": "code",
   "execution_count": 31,
   "metadata": {},
   "outputs": [],
   "source": [
    "JSON_License=json.dumps(my_dict,indent=10)"
   ]
  },
  {
   "cell_type": "code",
   "execution_count": 32,
   "metadata": {},
   "outputs": [
    {
     "name": "stdout",
     "output_type": "stream",
     "text": [
      "{\n",
      "          \"-ma  DL No\": \"NUMBERS\",\n",
      "          \" DD-MM-YY\": \"DOI\",\n",
      "          \"Valid Till\": \" DD-MM-YY (NT) ram 7\",\n",
      "          \"DOB.\\u2018 DD-MM-YY BG\": \"\",\n",
      "          \"Name \": \"NAME SURNAME\",\n",
      "          \"S/D/W of\": \" NAME SURNAME\",\n",
      "          \"Add\": \" ADDRESS\",\n",
      "          \"pm\": \" NUMBERS / L\\u2018 '\",\n",
      "          \"Issuing Authority\": \" NUMBERS Impression of Holder\"\n",
      "}\n"
     ]
    }
   ],
   "source": [
    "print(JSON_License)"
   ]
  },
  {
   "cell_type": "code",
   "execution_count": null,
   "metadata": {},
   "outputs": [],
   "source": []
  },
  {
   "cell_type": "code",
   "execution_count": null,
   "metadata": {},
   "outputs": [],
   "source": []
  },
  {
   "cell_type": "code",
   "execution_count": null,
   "metadata": {},
   "outputs": [],
   "source": []
  },
  {
   "cell_type": "code",
   "execution_count": 33,
   "metadata": {},
   "outputs": [
    {
     "name": "stdout",
     "output_type": "stream",
     "text": [
      "Transport Department Government of Delhi\n",
      "Licence tn Drive Vehicles Throughout India\n",
      "\n",
      "  \n",
      "\n",
      "Licence Nn . : DL-0420110149646 (P) N\n",
      "Name : ANURAG BREIA\n",
      "S/WID : BDDH RAJ BREJA\n",
      "\n",
      "09/02/1976 BIG : U\n",
      "\n",
      "         \n",
      " \n",
      "    \n",
      "\n",
      "DOB :\n",
      "\n",
      "VIHAFLDELHI 110063\n",
      "\n",
      "Authorisation ta Drive Data of Issue\n",
      "\n",
      "mvcnc 01/03/2011 ‘_\n",
      "5,;\n",
      "§‘\\\n",
      "(Hnldefs Signature)\n",
      "I in: Date : o1/oa/2011\n",
      "Vsaslidity : 08/02/2026 77”}\n",
      "\n",
      "1.“. Carr No : NA Issuing Aulhnrity (wzs\n",
      "\n",
      "\n"
     ]
    }
   ],
   "source": [
    "img=cv2.imread('license1.jpg')\n",
    "\n",
    "\n",
    "text=pytesseract.image_to_string(img)\n",
    "\n",
    "print(text)"
   ]
  },
  {
   "cell_type": "code",
   "execution_count": 34,
   "metadata": {},
   "outputs": [
    {
     "data": {
      "text/plain": [
       "['Transport Department Government of Delhi',\n",
       " 'Licence tn Drive Vehicles Throughout India',\n",
       " '',\n",
       " '  ',\n",
       " '',\n",
       " 'Licence Nn . : DL-0420110149646 (P) N',\n",
       " 'Name : ANURAG BREIA',\n",
       " 'S/WID : BDDH RAJ BREJA',\n",
       " '',\n",
       " '09/02/1976 BIG : U',\n",
       " '',\n",
       " '         ',\n",
       " ' ',\n",
       " '    ',\n",
       " '',\n",
       " 'DOB :',\n",
       " '',\n",
       " 'VIHAFLDELHI 110063',\n",
       " '',\n",
       " 'Authorisation ta Drive Data of Issue',\n",
       " '',\n",
       " 'mvcnc 01/03/2011 ‘_',\n",
       " '5,;',\n",
       " '§‘\\\\',\n",
       " '(Hnldefs Signature)',\n",
       " 'I in: Date : o1/oa/2011',\n",
       " 'Vsaslidity : 08/02/2026 77”}',\n",
       " '',\n",
       " '1.“. Carr No : NA Issuing Aulhnrity (wzs',\n",
       " '',\n",
       " '']"
      ]
     },
     "execution_count": 34,
     "metadata": {},
     "output_type": "execute_result"
    }
   ],
   "source": [
    "my_list=text.split('\\n')\n",
    "\n",
    "my_list"
   ]
  },
  {
   "cell_type": "code",
   "execution_count": 35,
   "metadata": {},
   "outputs": [],
   "source": [
    "new_list=[]\n",
    "\n",
    "for text in my_list:\n",
    "    for letter in text:\n",
    "        if letter==':':\n",
    "            new_list.append(text)\n",
    "            \n",
    "        "
   ]
  },
  {
   "cell_type": "code",
   "execution_count": 36,
   "metadata": {},
   "outputs": [],
   "source": [
    "my_dict={}\n",
    "for x in new_list:\n",
    "    i=0\n",
    "    for letter in x:\n",
    "        if letter==':':\n",
    "            i=i+1\n",
    "            \n",
    "    \n",
    "            \n",
    "    if i==1:\n",
    "        list_of_numbers=x.split(':')\n",
    "        my_dict[list_of_numbers[0]]=list_of_numbers[1]\n",
    "        \n",
    "    else:\n",
    "        list_of_numbers=x.split(':')\n",
    "        my_dict[list_of_numbers[0]]=list_of_numbers[1].split(' ')[1]\n",
    "        my_dict[list_of_numbers[2]]=list_of_numbers[1].split(' ')[2]\n",
    "      "
   ]
  },
  {
   "cell_type": "code",
   "execution_count": 39,
   "metadata": {},
   "outputs": [],
   "source": [
    "JSON_License1=json.dumps(my_dict,indent=10)"
   ]
  },
  {
   "cell_type": "code",
   "execution_count": 40,
   "metadata": {},
   "outputs": [
    {
     "name": "stdout",
     "output_type": "stream",
     "text": [
      "{\n",
      "          \"Licence Nn . \": \" DL-0420110149646 (P) N\",\n",
      "          \"Name \": \" ANURAG BREIA\",\n",
      "          \"S/WID \": \" BDDH RAJ BREJA\",\n",
      "          \"09/02/1976 BIG \": \" U\",\n",
      "          \"DOB \": \"\",\n",
      "          \"I in\": \"Date\",\n",
      "          \" o1/oa/2011\": \"\",\n",
      "          \"Vsaslidity \": \" 08/02/2026 77\\u201d}\",\n",
      "          \"1.\\u201c. Carr No \": \" NA Issuing Aulhnrity (wzs\"\n",
      "}\n"
     ]
    }
   ],
   "source": [
    "print(JSON_License1)"
   ]
  },
  {
   "cell_type": "code",
   "execution_count": null,
   "metadata": {},
   "outputs": [],
   "source": []
  }
 ],
 "metadata": {
  "kernelspec": {
   "display_name": "Python 3",
   "language": "python",
   "name": "python3"
  },
  "language_info": {
   "codemirror_mode": {
    "name": "ipython",
    "version": 3
   },
   "file_extension": ".py",
   "mimetype": "text/x-python",
   "name": "python",
   "nbconvert_exporter": "python",
   "pygments_lexer": "ipython3",
   "version": "3.8.5"
  }
 },
 "nbformat": 4,
 "nbformat_minor": 4
}
